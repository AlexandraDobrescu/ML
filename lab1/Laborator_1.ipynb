{
  "nbformat": 4,
  "nbformat_minor": 0,
  "metadata": {
    "colab": {
      "name": "Laborator 1.ipynb",
      "provenance": [],
      "toc_visible": true
    },
    "kernelspec": {
      "name": "python3",
      "display_name": "Python 3"
    }
  },
  "cells": [
    {
      "cell_type": "markdown",
      "metadata": {
        "id": "5EUYXsI3JoDe",
        "colab_type": "text"
      },
      "source": [
        "# Învățare Automată\n",
        "# Grupare. Algoritmul K-Means\n",
        "### Autori:\n",
        "* Tudor Berariu - 2016\n",
        "* George Muraru - 2020"
      ]
    },
    {
      "cell_type": "markdown",
      "metadata": {
        "id": "N9EKsaOzJ4Y6",
        "colab_type": "text"
      },
      "source": [
        "## 1.Scopul laboratorului\n",
        "Scopul laboratorului ı̂l reprezintă ı̂nțelegerea si implementarea unei metode de ı̂nvățarare nesupervizată pentru grupare (engl. clustering): **algoritmul K-Means**.\n",
        "\n",
        "Structura documentului este următoarea. [Secțiunea 2](https://colab.research.google.com/drive/1Eap7t9FJcP6DSX9z9-F68KJ_vctl7hZC#scrollTo=lmsr8fvNKQ5m) prezintă contextul teoretic și formalizează problema ce se dorește rezolvată. Secțiunea 3 descrie ı̂n detaliu algoritmul K-Means. Secțiunea 4 enumeră câteva dintre limitările algoritmului K-Means și oferă câteva soluții simple pentru depășirea acestora. \n",
        "\n",
        "Una dintre aceste probleme se referă la importanța\n",
        "centroizilor inițiali, iar Secțiunea 5 descrie câteva metode avansate pentru alegerea acestora.\n",
        "Secțiunea 7 conține cerințele ce trebuie rezolvate ı̂n cadrul laboratorului, datele folosite pentru testare fiind descrise ı̂n Anexa B."
      ]
    },
    {
      "cell_type": "markdown",
      "metadata": {
        "id": "lmsr8fvNKQ5m",
        "colab_type": "text"
      },
      "source": [
        "## 2.Problema\n",
        "Una dintre problemele fundamentale ale ı̂nvățării automate o reprezintă identificarea grupurilor (engl. clusters) ı̂ntr-un set de obiecte astfel ı̂ncât obiectele din același grup să prezinte un grad mare de similaritate. Această problemă de ı̂nvățare nesupervizată se numește cluster analysis.\n",
        "\n",
        "Problema grupării se poate formaliza ı̂n diferite feluri, existând mai multe abordări.\n",
        "În acest laborator vom rezolva problema grupării bazate pe **centroizi** (engl. centroid-based clustering).\n",
        "Alte metode sunt:\n",
        "* ierarhice (agglomerative vs divisive)\n",
        "* bazate pe densitate\n",
        "* bazate pe distribuție\n",
        "\n",
        "Mai multe detalii se găsesc [aici](https://developers.google.com/machine-learning/clustering/clustering-algorithms).\n",
        "\n",
        "Se consideră un set de date $X = \\{x_{1} , . . . x_{N}\\}$ ce conține N exemple ı̂ntr-un spațiu D-dimensional. Scopul este partiționarea setului de date ı̂n K grupuri reprezentate prin K vectori prototip (engl. prototype vectors) $c_{k}$ (unde $k \\in \\{1,.,K\\}$) numiți centre sau centroizi (engl. centroids), astfel ı̂ncât distanța totală de la fiecare exemplu la cel mai apropiat centroid să fie minimă:\n",
        "\n",
        "$$\n",
        "\\begin{equation}\n",
        "J = \\sum_{i=1}^{N}\\sum_{k=1}^{K}in_{i,k} \\cdot \\left\\Vert{x_{i} - c_{k}}\\right\\Vert^2 \\tag{1}\n",
        "\\end{equation}\n",
        "$$\n",
        "\n",
        "$$\n",
        "\\begin{equation}\n",
        "in_{i,k} = \n",
        "    \\begin{cases}\n",
        "    1, dacă\\ k = argmin\\left\\Vert{x_{i} - c_{l}}\\right\\Vert\\\\\n",
        "    0, altfel\n",
        "    \\end{cases} \\tag{2}\n",
        "\\end{equation}\n",
        "$$"
      ]
    },
    {
      "cell_type": "markdown",
      "metadata": {
        "id": "Aj8ThCuUKcEB",
        "colab_type": "text"
      },
      "source": [
        "## 3.Algoritmul K-Means\n",
        "Algoritmul K-Means pornește de la un set de K centroizi aleși aleator din setul de obiecte. Se repetă alternativ următorii doi pași până când algoritmul converge:\n",
        "1. Se parcurg toate obiectele din setul de date și fiecare dintre acestea este alocat grupului corespunzator celui mai apropiat centroid\n",
        "2. Se recalculează centroidul fiecarui grup\n",
        "\n",
        "Algoritmul converge atunci când în urma unei iterații nu s-a modificat componența grupurilor.\n",
        "\n",
        "Pentru a înțelege de ce algoritmul K-Means găsește un minim al expresiei J (Formula 1), trebuie observat că cei doi pași optimizează succesiv parametrii $in_{i,k}$ și $c_{k}$.\n",
        "1. Fixând $c_{k}$, se recalculează $in_{i,k}$ conform ecuației 2.\n",
        "2. Fixând $in_{i,k}$, un minim al expresiei $J$ se găsește în punctul în care derivata este zero:\n",
        "$$\n",
        "\\begin{equation}\n",
        "\\sum_{i=1}^{N}in_{i,k}(x_{i} - c_{k}) = 0\n",
        "\\end{equation}\n",
        "$$\n",
        "\n",
        "<img src=\"https://drive.google.com/uc?export=view&id=1V2m8cYakqLohh_mipzup-vzQlWHysGFE\"\n",
        "/>"
      ]
    },
    {
      "cell_type": "markdown",
      "metadata": {
        "id": "j5zthcYxMllG",
        "colab_type": "text"
      },
      "source": [
        "## 4. Limitări ale algoritmului K-Means\n",
        "Algoritmul K-Means prezintă următoarele limitări importante:\n",
        "1. Numărul de grupuri K trebuie cunoscut a priori.\n",
        "* Dacă acest număr nu este cunoscut, se poate rula algoritmul pentru diferite valori ale lui K și se poate alege o partiție convenabilă. Altfel, se poate alege o altă metodă de grupare.\n",
        "2. Algoritmul converge către un minim local.\n",
        "* Nu există o metodă tractabilă care să garanteze un minim global. În practică\n",
        "se obișnuiește rularea algoritmului de mai multe ori și păstrarea celui mai bun\n",
        "rezultat.\n",
        "3. Rezultatul algoritmului depinde de alegerea centroizilor inițiali.\n",
        "* Există mai multe strategii pentru alegerea centroizilor inițiai ($c_{k}, 1 \\le k \\le K$), două dintre acestea fiind descrie în Secțiunea 5."
      ]
    },
    {
      "cell_type": "markdown",
      "metadata": {
        "id": "YB_3ayRlOOPP",
        "colab_type": "text"
      },
      "source": [
        "## 5. Alegerea centroizilor inițiali\n",
        "În algoritmul clasic K-Means cei K centroizi inițiali se aleg aleator din mulțimea obiectelor din setul de date. În continuare sunt descrise două metode mai bune pentru acest pas.\n",
        "\n",
        "### 5.1 Algoritmul K-Means++\n",
        "Algoritmul K-Means++ reprezintă o variantă ı̂mbunătățită a algoritmului K-Means ı̂n care centroizii inițiali sunt alesi după cum urmează\n",
        "* Primul centroid $c_{1}$ se alege aleator din setul de date\n",
        "* Următorii $K − 1$ se aleg succesiv dintre obiectele din setul de date cu o probabilitate\n",
        "$$\n",
        "\\begin{equation}\n",
        "p_i = \\frac{D(x_{i})^2}{\\sum_{x\\in{X}}D(x)^2}\n",
        "\\end{equation}\n",
        "$$\n",
        "\n",
        "pentru fiecare obiect $x_{i}\\in{X}$, unde $D(x)$ este distanța cea mai mică dintre obiectul $x$ și un centroid deja ales."
      ]
    },
    {
      "cell_type": "code",
      "metadata": {
        "id": "h0KKz01BKRXJ",
        "colab_type": "code",
        "colab": {}
      },
      "source": [
        ""
      ],
      "execution_count": 0,
      "outputs": []
    }
  ]
}