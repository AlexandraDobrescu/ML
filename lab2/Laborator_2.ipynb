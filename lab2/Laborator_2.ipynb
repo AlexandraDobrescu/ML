{
  "nbformat": 4,
  "nbformat_minor": 0,
  "metadata": {
    "colab": {
      "name": "Laborator 2.ipynb",
      "provenance": [],
      "collapsed_sections": [],
      "authorship_tag": "ABX9TyOzBr+EMam0s6jVfuo1BRqc",
      "include_colab_link": true
    },
    "kernelspec": {
      "name": "python3",
      "display_name": "Python 3"
    }
  },
  "cells": [
    {
      "cell_type": "markdown",
      "metadata": {
        "id": "view-in-github",
        "colab_type": "text"
      },
      "source": [
        "<a href=\"https://colab.research.google.com/github/cs-pub-ro/ML/blob/master/lab2/Laborator_2.ipynb\" target=\"_parent\"><img src=\"https://colab.research.google.com/assets/colab-badge.svg\" alt=\"Open In Colab\"/></a>"
      ]
    },
    {
      "cell_type": "markdown",
      "metadata": {
        "id": "0CLd24Gc0Qoz",
        "colab_type": "text"
      },
      "source": [
        "# Învățare Automată\n",
        "# Grupare. Algoritmul K-Means\n",
        "### Autori:\n",
        "* Tudor Berariu - 2016\n",
        "* George Muraru - 2020"
      ]
    },
    {
      "cell_type": "markdown",
      "metadata": {
        "id": "cxigVMh10QsL",
        "colab_type": "text"
      },
      "source": [
        "## 1. Scopul laboratorului"
      ]
    },
    {
      "cell_type": "markdown",
      "metadata": {
        "id": "CycSr6E4ltrs",
        "colab_type": "text"
      },
      "source": [
        "Scopul laboratorului îl reprezintă întelegerea conceptului de arbore de decizie și implementarea unor clasificatori bazați pe acest model."
      ]
    },
    {
      "cell_type": "markdown",
      "metadata": {
        "id": "-YWxF81W1jlU",
        "colab_type": "text"
      },
      "source": [
        "## 2. Problema de rezolvat"
      ]
    },
    {
      "cell_type": "markdown",
      "metadata": {
        "id": "M3RQxoc61nrD",
        "colab_type": "text"
      },
      "source": [
        "Problema de rezolvat ı̂n acest laborator este una de ı̂nvățare supervizată: fiind dat un **set de date X** ce conține exemple descrise printr-un set de **atribute discrete A** și etichetate cu **câte o clasă dintr-o mulțime cunoscută C**, să se construiască un model pentru clasificarea exemplelor noi."
      ]
    },
    {
      "cell_type": "markdown",
      "metadata": {
        "id": "TxWxuiO_16tZ",
        "colab_type": "text"
      },
      "source": [
        "## 3. Arbore de decizie\n"
      ]
    },
    {
      "cell_type": "markdown",
      "metadata": {
        "id": "bBXFgoNYlxdp",
        "colab_type": "text"
      },
      "source": [
        "Un arbore de decizie este un clasificator ce aproximează funcții discrete.\n",
        "\n",
        "Într-un arbore de decizie există 2 tipuri de noduri:\n",
        "* *noduri intermediare* - conține un test pentru un atribut și are câte un arc (și implicit un subarbore) pentru fiecare valoare posibiliă a atributului\n",
        "* *noduri frunză* - este etichetat cu o clasă\n",
        "\n",
        "Pentru **a clasifica un obiect nou** se pornește din rădăcina arborelui și din fiecare nod se coboară pe arcul corespunzător valorii atributului pe care o are obiectul dat. Atunci când se ajunge ı̂ntr-un nod frunză, clasa acestuia va reprezenta predicția arborelui."
      ]
    },
    {
      "cell_type": "markdown",
      "metadata": {
        "id": "kQvktw_WbZpk",
        "colab_type": "text"
      },
      "source": [
        "## 4. Păduri de arbori aleatori"
      ]
    },
    {
      "cell_type": "markdown",
      "metadata": {
        "id": "imU3HcNzl13s",
        "colab_type": "text"
      },
      "source": [
        "*Pădurile de arbori aleatori* (eng. Random Forest) este un model format din mai mulți arbori de decizie.\n",
        "\n",
        "Se bazează pe 2 hiperparametrii:\n",
        "* Eșantionare aleatoare din setul de date de antrenament\n",
        "* Subseturi aleatoare de atribute considerate la împărțirea pe mai multi subarbori\n",
        "\n",
        "Predicția, utilizând un astfel de model, se bazează pe clasa majoritară oferită de predicțiile indepente ale tuturor arborilor."
      ]
    },
    {
      "cell_type": "markdown",
      "metadata": {
        "id": "0XnuEfno1n4D",
        "colab_type": "text"
      },
      "source": [
        "## 5. Workspace Setup"
      ]
    },
    {
      "cell_type": "markdown",
      "metadata": {
        "id": "oQvzJhiWfzm9",
        "colab_type": "text"
      },
      "source": [
        "### Câteva biblioteci de care vom avea nevoie"
      ]
    },
    {
      "cell_type": "code",
      "metadata": {
        "id": "F2lKg7o7nZxo",
        "colab_type": "code",
        "colab": {}
      },
      "source": [
        "from math import log2\n",
        "import csv"
      ],
      "execution_count": 0,
      "outputs": []
    },
    {
      "cell_type": "markdown",
      "metadata": {
        "id": "QVVLxc0geBix",
        "colab_type": "text"
      },
      "source": [
        "### Hiperparametrii necesari rulării"
      ]
    },
    {
      "cell_type": "code",
      "metadata": {
        "id": "xTGgZTdXeHaS",
        "colab_type": "code",
        "colab": {}
      },
      "source": [
        "DATASET_NAME = 'Car'  #@param ['Chess', 'Car', 'Tennis']\n",
        "\n",
        "# Adâncimea arborilor\n",
        "D = 3 #@param {type: \"slider\", min: 2, max: 10}\n",
        "\n",
        "# Procentul de exemple din setul de date utilizat la construcția arborilor\n",
        "P = 50 #@param {type: \"slider\", min: 1, max: 100}"
      ],
      "execution_count": 0,
      "outputs": []
    },
    {
      "cell_type": "markdown",
      "metadata": {
        "id": "pyJFPSkseHlf",
        "colab_type": "text"
      },
      "source": [
        "### Funcții ajutătoare pentru descărcarea și lucrul cu setul de date"
      ]
    },
    {
      "cell_type": "code",
      "metadata": {
        "id": "0ZtaRrKceKKg",
        "colab_type": "code",
        "colab": {}
      },
      "source": [
        "class Node:\n",
        "    \"\"\" Representation for a node from the decision tree \"\"\"\n",
        "    def __init__(self, label):\n",
        "        \"\"\"\n",
        "            for non-leafs it is the name of the attribute\n",
        "            for leafs it is the class\n",
        "        \"\"\"\n",
        "        self.label = label\n",
        "        \n",
        "        \"\"\" Keep mapping (attribute_value, node)\n",
        "            All the nodes from childre[attr_val] are having the attr_val as\n",
        "            an attribute\n",
        "        \"\"\"\n",
        "        self.children = {}\n",
        "    \n",
        "    def display(self, string):\n",
        "        print(string + self.label)\n",
        "        string += \"\\t\"\n",
        "        if self.children:\n",
        "            for key, value in self.children.items():\n",
        "                print(string + key)\n",
        "                value.display(string + \"\\t\")\n",
        "\n",
        "\n",
        "def getArchive(dataSetName):\n",
        "    \"\"\" Checks if a specific dataset is present in the local directory, if not,\n",
        "    downloads it.\n",
        "\n",
        "    Args:\n",
        "        dataSetName (str): the dataset name\n",
        "    \"\"\"\n",
        "    datasets_url = {\n",
        "        \"Car\": \"https://raw.githubusercontent.com/cs-pub-ro/ML/master/lab2/datasets/car\",\n",
        "        \"Chess\": \"https://raw.githubusercontent.com/cs-pub-ro/ML/master/lab2/datasets/chess\",\n",
        "        \"Tennis\": \"https://raw.githubusercontent.com/cs-pub-ro/ML/master/lab2/datasets/tennis\"\n",
        "    }\n",
        "\n",
        "    assert dataSetName in datasets_url\n",
        "  \n",
        "    dataset_url = datasets_url[dataSetName]\n",
        "    dataset_file = dataset_url.split(\"/\")[-1]\n",
        "\n",
        "    from os import path\n",
        "    if not path.isfile(dataset_file):\n",
        "        import urllib\n",
        "        print(\"Downloading...\")\n",
        "        urllib.request.urlretrieve(dataset_url, filename=dataset_file)\n",
        "        assert(path.isfile(dataset_file))\n",
        "        print(\"Got the archive\")\n",
        "    else:\n",
        "        print(f\"{dataset_file} already in the local directory\")\n",
        "\n",
        "\n",
        "def getDataSet(dataSetName):\n",
        "    \"\"\" Reads a dataset\n",
        "\n",
        "    Args:\n",
        "        dataSetName (str): Name for the dataset\n",
        "\n",
        "    Returns:\n",
        "        A tuple containing (classes, attributes, examples):\n",
        "        classes (set): the classes that are found in the dataset\n",
        "        attributes (list of strings): the attributes for the dataset\n",
        "    \"\"\"\n",
        "\n",
        "    dataset_file = dataSetName.lower()\n",
        "\n",
        "    f_in = open(dataset_file, 'r')\n",
        "    csv_reader = csv.reader(f_in, delimiter=\",\")\n",
        "\n",
        "    # Read the header row\n",
        "    row = next(csv_reader)\n",
        "\n",
        "    # The last element represents the class\n",
        "    attributeNames = row[:-1]\n",
        "    \n",
        "    examples = []\n",
        "    classes = set()\n",
        "\n",
        "    for row in csv_reader:\n",
        "        *attributes, label = row\n",
        "        classes.add(label)\n",
        "        example = dict(zip(attributeNames, attributes))\n",
        "        example[\"CLASS\"] = label\n",
        "        examples.append(example)\n",
        "    \n",
        "    f_in.close()\n",
        "    return classes, attributes, examples"
      ],
      "execution_count": 0,
      "outputs": []
    },
    {
      "cell_type": "markdown",
      "metadata": {
        "id": "GVpmhw63j89K",
        "colab_type": "text"
      },
      "source": [
        "### Descărcare și încarcare set de date"
      ]
    },
    {
      "cell_type": "code",
      "metadata": {
        "id": "X8fxQ-xekLty",
        "colab_type": "code",
        "colab": {}
      },
      "source": [
        "getArchive(DATASET_NAME)\n",
        "classes, attributes, examples = getDataSet(DATASET_NAME)"
      ],
      "execution_count": 0,
      "outputs": []
    },
    {
      "cell_type": "markdown",
      "metadata": {
        "id": "kgYby0WVetLL",
        "colab_type": "text"
      },
      "source": [
        "## 6. Cerințe"
      ]
    },
    {
      "cell_type": "markdown",
      "metadata": {
        "id": "iU0xmCIFr-fi",
        "colab_type": "text"
      },
      "source": [
        "1. [3 pct] Implementați o funcție recursivă *randomTree* care construiește arbori de decizie de adâncime **d** pe baza unui **set de date X** și a unei **mulțimi de atribute A** astfel:\n",
        " * Dac̆a *d = 0*, atunci se construies,te un nod frunz ̆a cu clasa majoritar ̆a din X.\n",
        " * Dacă *d > 0*, atunci se alege aleator un atribut $a_i$ din A și se construiește câte un subarbore pentru fiecare valoare $v_j$ a atributului $a_i$ apelând *randomTree* pentru *d − 1*:\n",
        "$$\n",
        "X_{i/j} = \\{x \\in X|a_{i}(x) = v_k\\}\\\\\n",
        "A_{new} = A \\setminus \\{a_i\\}\n",
        "$$"
      ]
    },
    {
      "cell_type": "code",
      "metadata": {
        "id": "cOJjGaBUth4V",
        "colab_type": "code",
        "colab": {}
      },
      "source": [
        "def randomTree(d, X, A):\n",
        "    # Cerință 1\n",
        "    pass"
      ],
      "execution_count": 0,
      "outputs": []
    },
    {
      "cell_type": "markdown",
      "metadata": {
        "id": "rjYqUPSbe1gG",
        "colab_type": "text"
      },
      "source": [
        "2. [3 pct] Implementați o funcție recursivă *id3* care construiește arbori de decizie pe baza unui **set de date X** și a unei **mulțimi de atribute A**.\n",
        "    Trebuie avute în vedere următoarele aspecte:\n",
        "  * dacă toate exemplele din X aparțin unei singure clase C, atunci se construiește un nod frunză etichetat cu acea clasă C\n",
        "  * dacă nu mai exista atribute, atunci construiește nodul frunză etichetat cu cea mai frecventă clasă din X\n",
        "    \n",
        "  În caz contrar:\n",
        "  * se alege atributul $a^*$ care aduce cel mai mai mare câștig informațional și se construiește un *nod intermediar* corespunzător acestuia.\n",
        "$$\n",
        "entropy(X) = -\\sum_{c \\in C}\\frac{|X_c|}{|X|}log_2\\frac{|X_c|}{|X|}\n",
        "\\\\\n",
        "gain(X, a) = entropy(X) - \\sum_{v_{j} \\in vals(a)} \\frac{|X_{i/j}|}{|X|}entropy(X_{i/j})\n",
        "\\\\\n",
        "a^* = \\underset{a \\in A}{\\operatorname{arg max}}\\ gain(X, a)\n",
        "$$\n",
        "  * pentru fiecare valoare posibilă $v_j$ a lui $a^*$ se construiește un subarbore apelând recursiv funcția *id3* pentru:\n",
        "\n",
        "$$\n",
        "  X_j = \\{x \\in X|a^*(x) = v_j\\}\\\\\n",
        "  A_{new} = A\\setminus\\{a^*\\}\n",
        "$$\n",
        "\n",
        "În cazul prezentat mai sus, entropia este utilizată pentru a măsura randomness-ul din date. Intuitiv, cu cât un eveniment are probabilitate mai mare să se întâmple atunci acesta va avea o entropia din ce în ce mai mică. Prin modul în care se construiește arborele *ID3* se încearcă reducerea entropiei alegând la fiecare pas atributele care ne ofera cea mai multă informație. Cât considerați că este entropia într-un *nod frunză*?"
      ]
    },
    {
      "cell_type": "code",
      "metadata": {
        "id": "G_vvpBBve0-D",
        "colab_type": "code",
        "colab": {}
      },
      "source": [
        "def mostFrequentClass(X):\n",
        "    # TODO Cerință\n",
        "    return None\n",
        "\n",
        "\n",
        "def entropy(X):\n",
        "    # TODO Cerință 2\n",
        "    entropy = 0\n",
        "    return entropy\n",
        "\n",
        "\n",
        "def gain(X, A):\n",
        "    # TODO Cerință 2\n",
        "    gain = 0\n",
        "    return gain\n",
        "\n",
        "\n",
        "def id3(X, A):\n",
        "    # TODO Cerință 2\n",
        "    tree = Node(\"TODO\")\n",
        "    return tree"
      ],
      "execution_count": 0,
      "outputs": []
    },
    {
      "cell_type": "markdown",
      "metadata": {
        "id": "fFh6b_z0vxhk",
        "colab_type": "text"
      },
      "source": [
        "3. [4 pct] Implementați clasificator de tip pădure de arbori aleatori construind *n* arbori de adâncime maximă *d* fiecare dintre aceștia pornind de la o submulțime aleatoare a lui X.\n",
        "\n",
        "    Folosiți funcția *randomTree* de la cerința 1.\n",
        "  * Porniți de la *n = 100*, *d = 3* și submulțimi formate din 50% din elementele lui X alese la întamplare și experimentați cu acești hiperparametrii.\n",
        "  * Pentru predicția clasei pentru obiecte noi alegeți clasa majoritară\n",
        "  * Comparați rezultatele obținute folosind un singur arbore construit cu ID3 și o pădure de arbori aleatori. Discuție după *zgomot*, *overfitting*."
      ]
    },
    {
      "cell_type": "code",
      "metadata": {
        "id": "_LOaeUgIez66",
        "colab_type": "code",
        "colab": {}
      },
      "source": [
        "def randomForest(X, n, d):\n",
        "    # TODO Cerință \n",
        "    pass"
      ],
      "execution_count": 0,
      "outputs": []
    },
    {
      "cell_type": "markdown",
      "metadata": {
        "id": "gzAB53E6HEJN",
        "colab_type": "text"
      },
      "source": [
        "## 7. Set de date"
      ]
    },
    {
      "cell_type": "markdown",
      "metadata": {
        "id": "93rR0yIOflFr",
        "colab_type": "text"
      },
      "source": [
        "În cadrul acestui laborator se vor folosi seturile de date [Car Evaluation](https://archive.ics.uci.edu/ml/datasets/Car+Evaluation), [Chess](https://archive.ics.uci.edu/ml/datasets/Chess+%28King-Rook+vs.+King-Pawn%29) și [Tennis](https://www.kaggle.com/fredericobreno/play-tennis).\n",
        "\n",
        "Aceste seturi de date sunt \"ușor\" modificate astfel încât pe prima linie să se afle atributele și labelul/clasa din care face parte fiecare exemplu.\n",
        "\n",
        "Atributele datasetului *Chess* nu sunt intuitive, iar dacă doriți să aflați mai multe informații despre acestea, puteți accesa link-ul de [aici](https://pdfs.semanticscholar.org/db58/88d3f373aff2c6bd7b2f956b81c6896874a9.pdf?_ga=2.193733611.798337455.1582711694-486327444.1582711694)."
      ]
    },
    {
      "cell_type": "markdown",
      "metadata": {
        "id": "EnH2b3D0kXTd",
        "colab_type": "text"
      },
      "source": [
        "## 8. Extra"
      ]
    },
    {
      "cell_type": "markdown",
      "metadata": {
        "id": "A5JsikeLkZJc",
        "colab_type": "text"
      },
      "source": [
        "Un exemplu mai detaliat pentru construcția arborelui de decizie ID3 se poate găsi [aici](https://github.com/cs-pub-ro/ML/blob/master/lab2/id3_example.pdf)."
      ]
    }
  ]
}