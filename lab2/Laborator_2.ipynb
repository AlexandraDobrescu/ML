{
  "nbformat": 4,
  "nbformat_minor": 0,
  "metadata": {
    "colab": {
      "name": "Laborator 2.ipynb",
      "provenance": [],
      "collapsed_sections": [
        "PGhPx1D26TQw",
        "caDHqfYm6izP",
        "9GoSGPEu6qYy",
        "-7Z1p9_U6vxn",
        "g_7NMzis67oL",
        "7-xXSfCDyz7h"
      ],
      "toc_visible": true,
      "authorship_tag": "ABX9TyO74ib2P4UOwKthYhV4ErcK",
      "include_colab_link": true
    },
    "kernelspec": {
      "name": "python3",
      "display_name": "Python 3"
    }
  },
  "cells": [
    {
      "cell_type": "markdown",
      "metadata": {
        "id": "view-in-github",
        "colab_type": "text"
      },
      "source": [
        "<a href=\"https://colab.research.google.com/github/cs-pub-ro/ML/blob/master/lab2/Laborator_2.ipynb\" target=\"_parent\"><img src=\"https://colab.research.google.com/assets/colab-badge.svg\" alt=\"Open In Colab\"/></a>"
      ]
    },
    {
      "cell_type": "markdown",
      "metadata": {
        "id": "EDrJ5Qp4jl2D",
        "colab_type": "text"
      },
      "source": [
        "# Învățare Automată\n",
        "# Grupare ierarhică.\n",
        "### Autori:\n",
        "* Tudor Berariu - 2016\n",
        "* George Muraru - 2020"
      ]
    },
    {
      "cell_type": "markdown",
      "metadata": {
        "id": "Z5ABUzt5kAfJ",
        "colab_type": "text"
      },
      "source": [
        "## 1. Scopul laboratorului\n",
        "Scopul laboratorului îl reprezintă înțelegerea grupării ierarhice și a diferențelor dintre aceasta și algoritmul K-Means prezentat în primul laborator."
      ]
    },
    {
      "cell_type": "markdown",
      "metadata": {
        "id": "IQyWNEjPMryO",
        "colab_type": "text"
      },
      "source": [
        "## 2. Introducere\n",
        "În primul laborator a fost prezentat un algoritm pentru grupare, K-Means, care suferea de câteva limitări importante (soluția depindea de alegerea centroizilor inițiali; numărul de grupuri trebuie cunoscut sau intuit).\n",
        "\n",
        "De asemenea, s-a observat faptul că anumite seturi de date nu pot fi grupate folosind algoritmul K-Means din cauza *formei* grupurilor. Pentru a rezolva problema grupării seturi de date este nevoie de o abordare diferită de cea a reprezentării grupurilor prin centroizi.\n",
        "\n",
        "O altă abordare a problmei grupării unei mulțimi de obiecte în funcție de similaritatea dintre acestea (engl. *cluster analysis*) o reprezintă **gruparea ierarhică** (engl. *hierarchical clustering*).\n",
        "\n",
        "Spre deosebire de algoritmul K-Means, în cazul grupării ierarhice nu este necesară stabilirea a priori a numărului de grupuri și a unei partiționări inițiale a obiectelor.\n",
        "\n",
        "Gruparea ierarhică are două variante:\n",
        "* **grupare aglomerativă** (agglomerative clustering) - în care se pornește de la situația în care fiecare obiect formează singur un grup. Apoi se reunesc succesiv cele mai apropiate două grupuri până când\n",
        "rămâne unul singur.\n",
        "\n",
        "* **grupare prin divizare** - în care se pornește de la un singur grup ce cuprinde toate obiectele, iar la fiecare pas se alege un grup (cel mai eterogen pentru a fi segmentat.\n",
        "\n",
        "Rezultatul produs de gruparea ierarhică este un arbore de grupări / divizări succesive. De obicei, acest arbore este reprezentat grafic, pentru proporții ținându-se cont de similaritatea inter-cluster, printr-o [dendrogramă](#test). Numărul de grupuri potrivit pentru problemă se alege la final, de cele mai multe ori după vizualizarea dendrogramei.\n",
        "\n",
        "\n",
        "<a name=\"test\"><img src=\"https://drive.google.com/uc?export=view&id=1y0k0IWywdC_3ZNRtNjfqr2UT5O7PkwIz\" alt=\"Dendogram image\"/></a>\n",
        "\n",
        "<p align=\"center\">\n",
        "Figura 1: <a href=\"http://www.macs.hw.ac.uk/texturelab/people/thomas-methven#Surface\">Exemplu de dendogramă</a>\n",
        "</p>"
      ]
    },
    {
      "cell_type": "markdown",
      "metadata": {
        "id": "2-gZRj6ZMe6z",
        "colab_type": "text"
      },
      "source": [
        "## 3. Măsurarea apropierii dintre două grupuri\n",
        "Gruparea ierarhică reprezintă, de fapt, o familie de algoritmi ce folosesc diferite definiții ale distanței (similarității) dintre obiecte pentru construirea clusterelor.\n",
        "\n",
        "* **single-linkage** - distanța (similaritatea) dintre cele mai apropiate două puncte\n",
        "$$ D_{SL}(G, H) = \\min_{i \\in G, j \\in H} d_{i,j} $$\n",
        "\n",
        "* **complete-linkage** (**maximum-linkage**) - distanța (similaritatea) dintre cele mai depărtate două puncte\n",
        "$$ D_{CL}(G, H) = \\max_{i \\in G, j \\in H} d_{i,j} $$\n",
        "\n",
        "* **group-average** - distanța (similaritatea) medie a celor două grupuri\n",
        "$$ D_{GA}(G, H) = \\frac{1}{|G||H|}\\sum_{i \\in G}\\sum_{j \\in H} d_{i,j} $$\n",
        "\n",
        "* **ward-linkage** - distanța (similaritatea) dintre 2 grupări este dată de creșterea distanței față de (noul) centroid dacă cele 2 grupări s-ar uni\n",
        "$$ D_{WL}(G, H) = \\sum_{i \\in G \\cup H}d_{i, u_{GH}}^2 - \\sum_{i \\in G}d_{i, u_{G}}^2 - \\sum_{i \\in H}d_{i, u_{H}}^2 $$"
      ]
    },
    {
      "cell_type": "markdown",
      "metadata": {
        "id": "p8jTBwdwMSLp",
        "colab_type": "text"
      },
      "source": [
        "# 4. Alte metode de clusterizare\n",
        "În afara metodelor bazate pe centroid (K-Means) și pe conectivitate (grupare ierarhică), alte (câteva) modele de grupare sunt:\n",
        "* metode bazate pe distribuții - ex: [GMM](https://scikit-learn.org/stable/modules/mixture.html)\n",
        "* metode bazate pe densitate - ex: [DBSCAN](https://www.coursera.org/lecture/predictive-analytics/dbscan-EVHfy)\n",
        "* metode bazate pe teoria grafurilor - [bazat pe MST (Minimum Spanning Tree)](https://www.cs.cmu.edu/~ckingsf/bioinfo-lectures/mst.pdf)\n",
        "\n",
        "O lectură completă cu metodele de clusterizare poate fi găsită la [[1]](#CL)."
      ]
    },
    {
      "cell_type": "markdown",
      "metadata": {
        "id": "rP3MfuZG6M2Q",
        "colab_type": "text"
      },
      "source": [
        "# 5. Workspace Setup"
      ]
    },
    {
      "cell_type": "markdown",
      "metadata": {
        "id": "PGhPx1D26TQw",
        "colab_type": "text"
      },
      "source": [
        "### Dependențe\n"
      ]
    },
    {
      "cell_type": "code",
      "metadata": {
        "id": "o-NBGb546WzA",
        "colab_type": "code",
        "colab": {}
      },
      "source": [
        "!pip install numpy\n",
        "!pip install scipy"
      ],
      "execution_count": 0,
      "outputs": []
    },
    {
      "cell_type": "markdown",
      "metadata": {
        "id": "caDHqfYm6izP",
        "colab_type": "text"
      },
      "source": [
        "### Câteva biblioteci de care vom avea nevoie"
      ]
    },
    {
      "cell_type": "code",
      "metadata": {
        "id": "FkP3tRaC6npI",
        "colab_type": "code",
        "colab": {}
      },
      "source": [
        "%matplotlib inline\n",
        "\n",
        "import numpy as np\n",
        "from zipfile import ZipFile\n",
        "\n",
        "# Clustering\n",
        "from scipy.cluster import hierarchy\n",
        "\n",
        "# Plotting stuff\n",
        "import matplotlib.pyplot as plt\n",
        "import matplotlib.markers\n",
        "from mpl_toolkits.mplot3d import Axes3D"
      ],
      "execution_count": 0,
      "outputs": []
    },
    {
      "cell_type": "markdown",
      "metadata": {
        "id": "9GoSGPEu6qYy",
        "colab_type": "text"
      },
      "source": [
        "### Parametrii necesari rulării"
      ]
    },
    {
      "cell_type": "code",
      "metadata": {
        "id": "FfiAHB-U6sLH",
        "colab_type": "code",
        "colab": {}
      },
      "source": [
        "DATASET_NAME = 'Atom'  #@param ['Atom', 'Chainlink', 'EngyTime', 'GolfBall', 'Hepta', 'Lsun', 'Target', 'TwoDiamonds', 'WingNut']"
      ],
      "execution_count": 0,
      "outputs": []
    },
    {
      "cell_type": "markdown",
      "metadata": {
        "id": "-7Z1p9_U6vxn",
        "colab_type": "text"
      },
      "source": [
        "### Funcții ajutătoare pentru descărcarea și lucrul cu setul de date"
      ]
    },
    {
      "cell_type": "code",
      "metadata": {
        "id": "_66dUtoW62vD",
        "colab_type": "code",
        "colab": {}
      },
      "source": [
        "def dummy(Xs):\n",
        "    \"\"\" Creates a dummy array for the hierarchical associative clustering\n",
        "   \n",
        "    Args:\n",
        "        Xs (numpy array): dataset\n",
        "    Returns:\n",
        "        A numpy array with size (nr_datapoints - 1) x 4\n",
        "          where an entry in the array looks like:\n",
        "            id_c1, id_c2, dist_c1c2, nr_datapoints_c1c2\n",
        "    \"\"\"\n",
        "\n",
        "    (N, D) = Xs.shape\n",
        "    Z = np.zeros((N-1, 4))\n",
        "    lastIndex = 0\n",
        "\n",
        "    for i in range(N-1):\n",
        "        Z[i,0] = lastIndex\n",
        "        Z[i,1] = i+1\n",
        "        Z[i,2] = 0.1 + i\n",
        "        Z[i,3] = i+2\n",
        "        lastIndex = N+i\n",
        "    return Z\n",
        " \n",
        "\n",
        "def getArchive():\n",
        "    \"\"\" Checks if FCPS.zip is present in the local directory, if not,\n",
        "    downloads it.\n",
        "\n",
        "    Returns:\n",
        "        A ZipFile object for the FCPS archive\n",
        "    \"\"\"\n",
        "\n",
        "    archive_url = (\"https://github.com/cs-pub-ro/ML/raw/master/lab1/FCPS.zip\")\n",
        "    local_archive = \"FCPS.zip\"\n",
        " \n",
        "    from os import path\n",
        "    if not path.isfile(local_archive):\n",
        "        import urllib\n",
        "        print(\"Downloading...\")\n",
        "        urllib.request.urlretrieve(archive_url, filename=local_archive)\n",
        "        assert path.isfile(local_archive)\n",
        "        print(\"Got the archive\")\n",
        "\n",
        "    return ZipFile(local_archive)\n",
        "\n",
        "\n",
        "def getDataSet(archive, dataSetName):\n",
        "    \"\"\" Get a dataset from the FCPS.zip\n",
        "\n",
        "    Args:\n",
        "        archive (ZipFile): Object for the FCPS\n",
        "        dataSetName (String): The dataset name from the FCPS\n",
        "\n",
        "    Returns:\n",
        "        A tuple (Xs, labels)\n",
        "        Xs (numpy array): rows are the elements and the cols are the features\n",
        "        labels (numpy array): labels associated with Xs\n",
        "\n",
        "    \"\"\"\n",
        "\n",
        "    path = \"FCPS/01FCPSdata/\" + dataSetName\n",
        " \n",
        "    lrnFile = path + \".lrn\"\n",
        "    with archive.open(lrnFile, \"r\") as f:\n",
        "        N = int(f.readline().decode(\"UTF-8\").split()[1])\n",
        "        D = int(f.readline().decode(\"UTF-8\").split()[1])\n",
        "        f.readline()\n",
        "        f.readline()\n",
        "        Xs = np.zeros([N, D-1])\n",
        "        for i in range(N):\n",
        "            data = f.readline().decode(\"UTF-8\").strip().split(\"\\t\")\n",
        "            assert len(data) == D\n",
        "            assert int(data[0]) == (i + 1)\n",
        "            Xs[i] = np.array(list(map(float, data[1:])))\n",
        "\n",
        "    clsFile = path + \".cls\"\n",
        "    with archive.open(clsFile, \"r\") as f:\n",
        "        labels = np.zeros(N).astype(\"uint\")\n",
        " \n",
        "        line = f.readline().decode(\"UTF-8\")\n",
        "        while line.startswith(\"%\"): \n",
        "            line = f.readline().decode(\"UTF-8\")\n",
        " \n",
        "        i = 0\n",
        "        while line and i < N:\n",
        "            data = line.strip().split(\"\\t\")\n",
        "            assert len(data) == 2\n",
        "            assert int(data[0]) == (i + 1)\n",
        "            labels[i] = int(data[1])\n",
        "            line = f.readline().decode(\"UTF-8\")\n",
        "            i = i + 1\n",
        " \n",
        "        assert i == N\n",
        " \n",
        "    return Xs, labels\n",
        "\n",
        "\n",
        "def plotClusters(Xs, labels, K, clusters):\n",
        "    \"\"\" Plot the data with the true labels alongside the centroids and the\n",
        "    predicted cluster.\n",
        "    If the elements from the dataset are not 2 or 3 dimensional then print\n",
        "    the index, predicted cluster and true label.\n",
        "\n",
        "    Args:\n",
        "        Xs (numpy array): dataset\n",
        "        labels (numpy array): real/true labels\n",
        "        K (int): number of clusters\n",
        "        clusters (numpy array): predicted labels\n",
        "    \"\"\"\n",
        "\n",
        "    labelsNo = np.max(labels)\n",
        "\n",
        "    markers = []\n",
        "\n",
        "    while len(markers) < labelsNo:\n",
        "        markers.extend(list(matplotlib.markers.MarkerStyle.filled_markers))\n",
        "\n",
        "    colors = plt.cm.rainbow(np.linspace(0, 1, K+1))\n",
        "    if Xs.shape[1] == 2:\n",
        "        x = Xs[:,0]\n",
        "        y = Xs[:,1]\n",
        "        for (_x, _y, _c, _l) in zip(x, y, clusters, labels):\n",
        "            plt.scatter(_x, _y, s=500, c=[colors[_c]], marker=markers[_l])\n",
        "        plt.show()\n",
        "    elif Xs.shape[1] == 3:\n",
        "        x = Xs[:,0]\n",
        "        y = Xs[:,1]\n",
        "        z = Xs[:,2]\n",
        "        fig = plt.figure()\n",
        "        ax = fig.add_subplot(111, projection='3d')\n",
        "        for (_x, _y, _z, _c, _l) in zip(x, y, z, clusters, labels):\n",
        "            ax.scatter(_x, _y, _z, s=200, c=[colors[_c]], marker=markers[_l])\n",
        "        plt.show()\n",
        "    else:\n",
        "        for i in range(Xs.shape[0]):\n",
        "            print(f\"{i} : {clusters[i]} ~ {labels[i]}\")"
      ],
      "execution_count": 0,
      "outputs": []
    },
    {
      "cell_type": "markdown",
      "metadata": {
        "id": "g_7NMzis67oL",
        "colab_type": "text"
      },
      "source": [
        "### Încărcare set de date"
      ]
    },
    {
      "cell_type": "code",
      "metadata": {
        "id": "FM_O1-fK699d",
        "colab_type": "code",
        "colab": {}
      },
      "source": [
        "Xs, labels = getDataSet(getArchive(), DATASET_NAME)"
      ],
      "execution_count": 0,
      "outputs": []
    },
    {
      "cell_type": "markdown",
      "metadata": {
        "id": "7-xXSfCDyz7h",
        "colab_type": "text"
      },
      "source": [
        "## 5. Cerințe"
      ]
    },
    {
      "cell_type": "markdown",
      "metadata": {
        "id": "mv8-1YaK7GyS",
        "colab_type": "text"
      },
      "source": [
        "1. [4 pct] Implementați algoritmul de grupare ierarhică aglomerativă folosind distanța [*single-linkage*](#scrollTo=2-gZRj6ZMe6z).\n",
        "    \n",
        "    Funcția trebuie să ı̂ntoarcă o matrice cu $(N − 1) × 4$ valori.\n",
        "    \n",
        "    Fiecare linie corespunde unei alipiri a două grupuri (plecând de la N grupuri se ajunge la unul singur ı̂n N − 1 pași).\n",
        "  * primele două valori corespund id-urilor grupurilor ce trebuie unite\n",
        "  * a treia valoare conține distanța dintre cele două grupuri\n",
        "  * a patra valoare reprezintă numărul de puncte pe care le conține noul grup\n",
        "\n",
        "  Pentru id-uri, valorile de la 0 la $N − 1$ se referă la exemplele din setul de date, iar cele de la $N$ la $2N − 2$ corespund grupurilor construite pe parcurs (la pasul $ 0 \\le i < N −1 $ se construiește clusterul $N+i$)."
      ]
    },
    {
      "cell_type": "code",
      "metadata": {
        "id": "P7n1_U4z7dfC",
        "colab_type": "code",
        "colab": {}
      },
      "source": [
        "def singleLinkage(Xs):\n",
        "     # TODO 1\n",
        "     return dummy(Xs)\n",
        "\n",
        "Z = singleLinkage(Xs)\n",
        "dn = hierarchy.dendrogram(Z)"
      ],
      "execution_count": 0,
      "outputs": []
    },
    {
      "cell_type": "markdown",
      "metadata": {
        "id": "XMHTZeHrzrry",
        "colab_type": "text"
      },
      "source": [
        "\n",
        "2. [2 pct] Implementați distanțele:\n",
        "  * *complete-linkage*\n",
        "  * *group-average*.\n",
        "\n",
        "    Cele două funcții ı̂ntorc o matrice cu aceeași semantică precum ı̂n cazul *single-linkage*."
      ]
    },
    {
      "cell_type": "code",
      "metadata": {
        "id": "xJa7oU7ONYis",
        "colab_type": "code",
        "colab": {}
      },
      "source": [
        "def completeLinkage(Xs):\n",
        "    # TODO 2\n",
        "    return dummy(Xs)"
      ],
      "execution_count": 0,
      "outputs": []
    },
    {
      "cell_type": "code",
      "metadata": {
        "id": "yFmfEBMDNds8",
        "colab_type": "code",
        "colab": {}
      },
      "source": [
        "def groupAverageLinkage(Xs):\n",
        "    # TODO 2\n",
        "    return dummy(Xs)"
      ],
      "execution_count": 0,
      "outputs": []
    },
    {
      "cell_type": "markdown",
      "metadata": {
        "id": "rWBNMhMSz7vk",
        "colab_type": "text"
      },
      "source": [
        "3. [2 pct] Implementați funcția *extractClusters* care pe baza unei aglomerări ierarhice construite anterior, stabilește numărul optim de clustere ca fiind cel dinaintea alipirii făcute la cea mai mare distanță."
      ]
    },
    {
      "cell_type": "code",
      "metadata": {
        "id": "ouxYw_7ENplP",
        "colab_type": "code",
        "colab": {}
      },
      "source": [
        "def extractClusters(Xs, Z):\n",
        "    (N, D) = Xs.shape\n",
        "    assert (Z.shape == (N-1, 4))\n",
        "\n",
        "    #TODO 3\n",
        "    return 1, np.zeros(N, dtype=np.uint64)\n",
        "\n",
        "K, clusters = extractClusters(Xs, Z)\n",
        "plotClusters(Xs, labels, K, clusters)"
      ],
      "execution_count": 0,
      "outputs": []
    },
    {
      "cell_type": "markdown",
      "metadata": {
        "id": "66Fya-vB0KqG",
        "colab_type": "text"
      },
      "source": [
        "\n",
        "4. [2 pct] Testați algoritmul implementat și eficiența acestuia pe seturile de date din arhivă."
      ]
    },
    {
      "cell_type": "markdown",
      "metadata": {
        "id": "_mjto1kQ7JaT",
        "colab_type": "text"
      },
      "source": [
        "## 6. Set de date\n",
        "În cadrul acestui laborator veți folosi seturile de date [FCPS](https://github.com/cs-pub-ro/ML/raw/master/lab1/FCPS.zip) (Fundamental Clustering\n",
        "Problem Suite) ale Philipps Universität Marburg.\n",
        "\n",
        "Pentru fiecare set de date veți găsi următoarele fișiere ı̂n subdirectorul 01FCPSdata:\n",
        "* $<$nume$>$.lrn - setul de date cu un id pentru fiecare obiect,\n",
        "* $<$nume$>$.cls - clasele reale ale obiectelor.\n",
        "Coloanele sunt separate prin TAB."
      ]
    },
    {
      "cell_type": "markdown",
      "metadata": {
        "id": "mMcstjAAvwYn",
        "colab_type": "text"
      },
      "source": [
        "# Bibliografie\n",
        "<a name=\"CL\" href=\"https://link.springer.com/article/10.1007%2Fs40745-015-0040-1\">[1] *Xu, D., Tian, Y. A Comprehensive Survey of Clustering Algorithms. Ann. Data. Sci. 2, 165–193 (2015)*</a>"
      ]
    }
  ]
}