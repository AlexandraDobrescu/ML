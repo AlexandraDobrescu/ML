{
  "nbformat": 4,
  "nbformat_minor": 0,
  "metadata": {
    "colab": {
      "name": "Laborator 2.ipynb",
      "provenance": [],
      "collapsed_sections": [],
      "authorship_tag": "ABX9TyMj3dZ80gN58Mpd48zVa4ZU",
      "include_colab_link": true
    },
    "kernelspec": {
      "name": "python3",
      "display_name": "Python 3"
    }
  },
  "cells": [
    {
      "cell_type": "markdown",
      "metadata": {
        "id": "view-in-github",
        "colab_type": "text"
      },
      "source": [
        "<a href=\"https://colab.research.google.com/github/cs-pub-ro/ML/blob/master/lab2/Laborator_2.ipynb\" target=\"_parent\"><img src=\"https://colab.research.google.com/assets/colab-badge.svg\" alt=\"Open In Colab\"/></a>"
      ]
    },
    {
      "cell_type": "markdown",
      "metadata": {
        "id": "0CLd24Gc0Qoz",
        "colab_type": "text"
      },
      "source": [
        "# Învățare Automată\n",
        "# Grupare. Algoritmul K-Means\n",
        "### Autori:\n",
        "* Tudor Berariu - 2016\n",
        "* George Muraru - 2020"
      ]
    },
    {
      "cell_type": "markdown",
      "metadata": {
        "id": "cxigVMh10QsL",
        "colab_type": "text"
      },
      "source": [
        "## 1. Scopul laboratorului\n",
        "\n",
        "Scopul laboratorului îl reprezintă întelegerea conceptului de arbore de decizie și implementarea unor clasificatori bazați pe acest model."
      ]
    },
    {
      "cell_type": "markdown",
      "metadata": {
        "id": "-YWxF81W1jlU",
        "colab_type": "text"
      },
      "source": [
        "## 2. Problema de rezolvat"
      ]
    },
    {
      "cell_type": "markdown",
      "metadata": {
        "id": "M3RQxoc61nrD",
        "colab_type": "text"
      },
      "source": [
        "Problema de rezolvat ı̂n acest laborator este una de ı̂nvățare supervizată: fiind dat un **set de date X** ce conține exemple descrise printr-un set de **atribute discrete A** și etichetate cu **câte o clasă dintr-o mulțime cunoscută C**, să se construiască un model pentru clasificarea exemplelor noi."
      ]
    },
    {
      "cell_type": "markdown",
      "metadata": {
        "id": "TxWxuiO_16tZ",
        "colab_type": "text"
      },
      "source": [
        "## 3. Arbore de decizie\n",
        "Un arbore de decizie este un clasificator ce aproximează funcții discrete.\n",
        "\n",
        "Într-un arbore de decizie există 2 tipuri de noduri:\n",
        "* *noduri intermediare* - conține un test pentru un atribut și are câte un arc (și implicit un subarbore) pentru fiecare valoare posibiliă a atributului\n",
        "* *noduri frunză* - este etichetat cu o clasă\n",
        "\n",
        "Pentru **a clasifica un obiect nou** se pornește din rădăcina arborelui și din fiecare nod se coboară pe arcul corespunzător valorii atributului pe care o are obiectul dat. Atunci când se ajunge ı̂ntr-un nod frunză, clasa acestuia va reprezenta predicția arborelui."
      ]
    },
    {
      "cell_type": "markdown",
      "metadata": {
        "id": "kQvktw_WbZpk",
        "colab_type": "text"
      },
      "source": [
        "## 4. Păduri de arbori aleatori\n",
        "\n",
        "*Pădurile de arbori aleatori* (eng. Random Forest) este un model format din mai mulți arbori de decizie.\n",
        "\n",
        "Se bazează pe 2 hiperparametrii:\n",
        "* Eșantionare aleatoare din setul de date de antrenament\n",
        "* Subseturi aleatoare de atribute considerate la împărțirea pe mai multi subarbori\n",
        "\n",
        "Predicția, utilizând un astfel de model, se bazează pe clasa majoritară oferită de predicțiile indepente ale tuturor arborilor."
      ]
    },
    {
      "cell_type": "markdown",
      "metadata": {
        "id": "0XnuEfno1n4D",
        "colab_type": "text"
      },
      "source": [
        "## 5. Workspace Setup"
      ]
    },
    {
      "cell_type": "markdown",
      "metadata": {
        "id": "oQvzJhiWfzm9",
        "colab_type": "text"
      },
      "source": [
        "### Câteva biblioteci de care vom avea nevoie"
      ]
    },
    {
      "cell_type": "code",
      "metadata": {
        "id": "F2lKg7o7nZxo",
        "colab_type": "code",
        "colab": {}
      },
      "source": [
        "from math import log2"
      ],
      "execution_count": 0,
      "outputs": []
    },
    {
      "cell_type": "markdown",
      "metadata": {
        "id": "QVVLxc0geBix",
        "colab_type": "text"
      },
      "source": [
        "### Hiperparametrii necesari rulării"
      ]
    },
    {
      "cell_type": "code",
      "metadata": {
        "id": "xTGgZTdXeHaS",
        "colab_type": "code",
        "colab": {}
      },
      "source": [
        "# Adâncimea arborilor\n",
        "D = 2 #@param {type: \"slider\", min: 2, max: 10}\n",
        "\n",
        "# Procent set de date utilizat la construcția arborilor\n",
        "P = 50 #@param {type: \"slider\", min: 1, max: 100}"
      ],
      "execution_count": 0,
      "outputs": []
    },
    {
      "cell_type": "markdown",
      "metadata": {
        "id": "pyJFPSkseHlf",
        "colab_type": "text"
      },
      "source": [
        "### Funcții ajutătoare pentru descărcarea și lucrul cu setul de date"
      ]
    },
    {
      "cell_type": "code",
      "metadata": {
        "id": "0ZtaRrKceKKg",
        "colab_type": "code",
        "colab": {}
      },
      "source": [
        "\n",
        "class Node:\n",
        "    def __init__(self, label):\n",
        "        # for non-leafs it is the name of the attribute\n",
        "        # for leafs it is the class\n",
        "        self.label = label\n",
        "        \n",
        "        # dictionary of (attribute value, node)\n",
        "        self.children = {}\n",
        "    \n",
        "    def display(self, string):\n",
        "        print(string + self.label)\n",
        "        string += \"\\t\"\n",
        "        if self.children:\n",
        "            for key, value in self.children.items():\n",
        "                print(string + key)\n",
        "                value.display(string + \"\\t\")\n",
        "\n",
        "\n",
        "def getDataSet(dataSetName):\n",
        "    # open a file and read the data: classes, attributes and examples\n",
        "    f = open(dataSetName, 'r')\n",
        "\n",
        "    # get attribute names\n",
        "    line = f.readline().split()\n",
        "    attributeNames = line[1:]\n",
        "    attributes = {}\n",
        "    for a in line[1:]:\n",
        "        attributes[a] = set()\n",
        "    \n",
        "    classes = set()\n",
        "    \n",
        "    # read examples        \n",
        "    examples = []\n",
        "    line = f.readline().split()\n",
        "    while line:\n",
        "        classValues = line[0]\n",
        "        classes.add(classValues)\n",
        "        \n",
        "        example = {}\n",
        "        example[\"CLASS\"] = classValues\n",
        "        for i in range(1, len(line)):\n",
        "            # attribute\n",
        "            attributeName = attributeNames[i - 1]\n",
        "            attributeValue = line[i]\n",
        "            attributes[attributeName].add(attributeValue)\n",
        "\n",
        "            # example\n",
        "            example[attributeName] = attributeValue\n",
        "            \n",
        "        examples.append(example)\n",
        "        line = f.readline().split()\n",
        "    \n",
        "    f.close()\n",
        "    \n",
        "    return classes, attributes, examples"
      ],
      "execution_count": 0,
      "outputs": []
    },
    {
      "cell_type": "markdown",
      "metadata": {
        "id": "kgYby0WVetLL",
        "colab_type": "text"
      },
      "source": [
        "## x. Cerințe"
      ]
    },
    {
      "cell_type": "markdown",
      "metadata": {
        "id": "iU0xmCIFr-fi",
        "colab_type": "text"
      },
      "source": [
        "1. [2 pct] Implementați o funcție recursivă *randomTree* care construiește arbori de decizie de adâncime **d** pe baza unui **set de date X** și a unei **mulțimi de atribute A** astfel:\n",
        " * Dac̆a *d = 0*, atunci se construies,te un nod frunz ̆a cu clasa majoritar ̆a din X.\n",
        " * Dacă *d > 0*, atunci se alege aleator un atribut $a_i$ din A și se construiește câte un subarbore pentru fiecare valoare $v_j$ a atributului $a_i$ apelând *randomTree* pentru *d − 1*:\n",
        "$$\n",
        "X_{i/j} = \\{x \\in X|a_{i}(x) = v_k\\}\\\\\n",
        "A_{new} = A \\setminus \\{a_i\\}\n",
        "$$"
      ]
    },
    {
      "cell_type": "code",
      "metadata": {
        "id": "cOJjGaBUth4V",
        "colab_type": "code",
        "colab": {}
      },
      "source": [
        "def randomTree(d, X, A):"
      ],
      "execution_count": 0,
      "outputs": []
    },
    {
      "cell_type": "markdown",
      "metadata": {
        "id": "rjYqUPSbe1gG",
        "colab_type": "text"
      },
      "source": [
        "2. [2.5 pct] Implementați o funcție recursivă *id3* care construiește arbori de decizie pe baza unui **set de date X** și a unei **mulțimi de atribute A**.\n",
        "    Trebuie avute în vedere următoarele aspecte:\n",
        "  * dacă toate exemplele din X aparțin unei singure clase C, atunci se construiește un nod frunză etichetat cu acea clasă C\n",
        "  * dacă nu mai exista atribute, atunci construiește nodul frunză etichetat cu cea mai frecventă clasă din X\n",
        "    \n",
        "  În caz contrar:\n",
        "  * se alege atributul *a*\\* care aduce cel mai mai mare câștig informațional și se construiește un *nod intermediar* corespunzător acestuia.\n",
        "$$\n",
        "entropy(X) = -\\sum_{c \\in C}\\frac{|X_c|}{|X|}log_2\\frac{|X_c|}{|X|}\n",
        "\\\\\n",
        "gain(X, a) = entropy(X) - \\sum_{v_{j} \\in vals(a)} \\frac{|X_{i/j}|}{|X|}entropy(X_{i/j})\n",
        "\\\\\n",
        "a^* = \\underset{a \\in A}{\\operatorname{arg max}}\\ gain(X, a)\n",
        "$$\n",
        "  * pentru fiecare valoare posibilă $v_j$ a lui *a\\** se construiește un subarbore apelând recursiv id3 pentru:\n",
        "\n",
        "$$\n",
        "  X_j = \\{x \\in X|a^*(x) = v_j\\}\\\\\n",
        "  A_{new} = A\\setminus\\{a*\\}\n",
        "$$"
      ]
    },
    {
      "cell_type": "code",
      "metadata": {
        "id": "G_vvpBBve0-D",
        "colab_type": "code",
        "colab": {}
      },
      "source": [
        "def mostFrequentClass(X):\n",
        "    # TODO\n",
        "    # get most frequent class\n",
        "    return None\n",
        "\n",
        "\n",
        "def entropy():\n",
        "    # TODO\n",
        "    # compute entropy\n",
        "    entropy = 0\n",
        "    return entropy\n",
        "\n",
        "\n",
        "def gain():\n",
        "    # TODO\n",
        "    # compute gain\n",
        "    gain = 0\n",
        "    return gai\n",
        "\n",
        "\n",
        "def id3(X, A):\n",
        "    # TODO Cerință 2\n",
        "    tree = Node(\"TODO\")\n",
        "    return tree"
      ],
      "execution_count": 0,
      "outputs": []
    },
    {
      "cell_type": "markdown",
      "metadata": {
        "id": "fFh6b_z0vxhk",
        "colab_type": "text"
      },
      "source": [
        "3. [2 pct] Implementați clasificator de tip pădure de arbori aleatori construind *n* arbori de adâncime maximă *d* fiecare dintre aceștia pornind de la o submulțime aleatoare a lui X.\n",
        "\n",
        "    Folosiți funcția *randomTree* de la cerința 1.\n",
        "  * Porniți de la *n = 100*, *d = 3* și submulțimi formate din 50% din elementele lui X alese la întamplare și experimentați cu acești hiperparametrii.\n",
        "  * Pentru predicția clasei pentru obiecte noi alegeți clasa majoritară\n",
        "  * Comparați rezultatele obținute folosind un singur arbore construit cu ID3 și o pădure de arbori aleatori. Discuție după *zgomot*, *overfitting*."
      ]
    },
    {
      "cell_type": "code",
      "metadata": {
        "id": "_LOaeUgIez66",
        "colab_type": "code",
        "colab": {}
      },
      "source": [
        "def randomForest(X, n, d):\n",
        "    # TODO Cerință 3"
      ],
      "execution_count": 0,
      "outputs": []
    }
  ]
}